{
 "cells": [
  {
   "cell_type": "markdown",
   "id": "95639e17",
   "metadata": {},
   "source": [
    "# 4-7_Deriving new variables\n",
    "\n",
    "## This script contains the following points\n",
    "\n",
    "#### 0. Imports libraries and dataframes\n",
    "\n",
    "#### 1.a. Create \"price_label\" column\n",
    "\n",
    "#### 1.b. Create \"busiest_day\" column\n",
    "\n",
    "#### 2. Create \"busiest_days\" column\n",
    "\n",
    "#### 3. Check \"busiest_days\" for accuracy\n",
    "\n",
    "#### 4. Create \"most_orders\" column\n",
    "\n",
    "#### 5. Print frequency \"most_orders\"\n",
    "\n",
    "#### 6. I have a pretty code here \n",
    "\n",
    "#### 7. Export data as pickle file\n"
   ]
  },
  {
   "cell_type": "markdown",
   "id": "41cdc76f",
   "metadata": {},
   "source": [
    "## 0. Imports libraries and dataframes"
   ]
  },
  {
   "cell_type": "code",
   "execution_count": 1,
   "id": "4d5a7eed",
   "metadata": {},
   "outputs": [],
   "source": [
    "# Import libraries\n",
    "\n",
    "import pandas as pd\n",
    "import numpy as np\n",
    "import os"
   ]
  },
  {
   "cell_type": "code",
   "execution_count": 2,
   "id": "4309b1ff",
   "metadata": {},
   "outputs": [],
   "source": [
    "# Importing the data frames\n",
    "\n",
    "# creates a path with the source folder\n",
    "path = r'C:\\Users\\Marc\\Mariana_CareerFoundry'\n",
    "\n",
    "# importing the orders.csv file from prepared data\n",
    "df_ords_prods = pd.read_pickle(os.path.join(path, '02_Data','2-2_Prepared', 'ords_prods_merge.pkl'))"
   ]
  },
  {
   "cell_type": "code",
   "execution_count": 3,
   "id": "e9879791",
   "metadata": {},
   "outputs": [
    {
     "data": {
      "text/html": [
       "<div>\n",
       "<style scoped>\n",
       "    .dataframe tbody tr th:only-of-type {\n",
       "        vertical-align: middle;\n",
       "    }\n",
       "\n",
       "    .dataframe tbody tr th {\n",
       "        vertical-align: top;\n",
       "    }\n",
       "\n",
       "    .dataframe thead th {\n",
       "        text-align: right;\n",
       "    }\n",
       "</style>\n",
       "<table border=\"1\" class=\"dataframe\">\n",
       "  <thead>\n",
       "    <tr style=\"text-align: right;\">\n",
       "      <th></th>\n",
       "      <th>order_id</th>\n",
       "      <th>user_id</th>\n",
       "      <th>eval_set</th>\n",
       "      <th>order_number</th>\n",
       "      <th>orders_day_of_week</th>\n",
       "      <th>order_hour_of_day</th>\n",
       "      <th>days_since_prior_order</th>\n",
       "      <th>product_id</th>\n",
       "      <th>add_to_cart_order</th>\n",
       "      <th>reordered</th>\n",
       "      <th>Unnamed: 0</th>\n",
       "      <th>product_name</th>\n",
       "      <th>aisle_id</th>\n",
       "      <th>department_id</th>\n",
       "      <th>prices</th>\n",
       "      <th>_merge</th>\n",
       "    </tr>\n",
       "  </thead>\n",
       "  <tbody>\n",
       "    <tr>\n",
       "      <th>0</th>\n",
       "      <td>2539329</td>\n",
       "      <td>1</td>\n",
       "      <td>prior</td>\n",
       "      <td>1</td>\n",
       "      <td>2</td>\n",
       "      <td>8</td>\n",
       "      <td>NaN</td>\n",
       "      <td>196</td>\n",
       "      <td>1</td>\n",
       "      <td>0</td>\n",
       "      <td>195</td>\n",
       "      <td>Soda</td>\n",
       "      <td>77</td>\n",
       "      <td>7</td>\n",
       "      <td>9.0</td>\n",
       "      <td>both</td>\n",
       "    </tr>\n",
       "    <tr>\n",
       "      <th>1</th>\n",
       "      <td>2539329</td>\n",
       "      <td>1</td>\n",
       "      <td>prior</td>\n",
       "      <td>1</td>\n",
       "      <td>2</td>\n",
       "      <td>8</td>\n",
       "      <td>NaN</td>\n",
       "      <td>14084</td>\n",
       "      <td>2</td>\n",
       "      <td>0</td>\n",
       "      <td>14084</td>\n",
       "      <td>Organic Unsweetened Vanilla Almond Milk</td>\n",
       "      <td>91</td>\n",
       "      <td>16</td>\n",
       "      <td>12.5</td>\n",
       "      <td>both</td>\n",
       "    </tr>\n",
       "    <tr>\n",
       "      <th>2</th>\n",
       "      <td>2539329</td>\n",
       "      <td>1</td>\n",
       "      <td>prior</td>\n",
       "      <td>1</td>\n",
       "      <td>2</td>\n",
       "      <td>8</td>\n",
       "      <td>NaN</td>\n",
       "      <td>12427</td>\n",
       "      <td>3</td>\n",
       "      <td>0</td>\n",
       "      <td>12427</td>\n",
       "      <td>Original Beef Jerky</td>\n",
       "      <td>23</td>\n",
       "      <td>19</td>\n",
       "      <td>4.4</td>\n",
       "      <td>both</td>\n",
       "    </tr>\n",
       "    <tr>\n",
       "      <th>3</th>\n",
       "      <td>2539329</td>\n",
       "      <td>1</td>\n",
       "      <td>prior</td>\n",
       "      <td>1</td>\n",
       "      <td>2</td>\n",
       "      <td>8</td>\n",
       "      <td>NaN</td>\n",
       "      <td>26088</td>\n",
       "      <td>4</td>\n",
       "      <td>0</td>\n",
       "      <td>26089</td>\n",
       "      <td>Aged White Cheddar Popcorn</td>\n",
       "      <td>23</td>\n",
       "      <td>19</td>\n",
       "      <td>4.7</td>\n",
       "      <td>both</td>\n",
       "    </tr>\n",
       "    <tr>\n",
       "      <th>4</th>\n",
       "      <td>2539329</td>\n",
       "      <td>1</td>\n",
       "      <td>prior</td>\n",
       "      <td>1</td>\n",
       "      <td>2</td>\n",
       "      <td>8</td>\n",
       "      <td>NaN</td>\n",
       "      <td>26405</td>\n",
       "      <td>5</td>\n",
       "      <td>0</td>\n",
       "      <td>26406</td>\n",
       "      <td>XL Pick-A-Size Paper Towel Rolls</td>\n",
       "      <td>54</td>\n",
       "      <td>17</td>\n",
       "      <td>1.0</td>\n",
       "      <td>both</td>\n",
       "    </tr>\n",
       "    <tr>\n",
       "      <th>5</th>\n",
       "      <td>2398795</td>\n",
       "      <td>1</td>\n",
       "      <td>prior</td>\n",
       "      <td>2</td>\n",
       "      <td>3</td>\n",
       "      <td>7</td>\n",
       "      <td>15.0</td>\n",
       "      <td>196</td>\n",
       "      <td>1</td>\n",
       "      <td>1</td>\n",
       "      <td>195</td>\n",
       "      <td>Soda</td>\n",
       "      <td>77</td>\n",
       "      <td>7</td>\n",
       "      <td>9.0</td>\n",
       "      <td>both</td>\n",
       "    </tr>\n",
       "    <tr>\n",
       "      <th>6</th>\n",
       "      <td>2398795</td>\n",
       "      <td>1</td>\n",
       "      <td>prior</td>\n",
       "      <td>2</td>\n",
       "      <td>3</td>\n",
       "      <td>7</td>\n",
       "      <td>15.0</td>\n",
       "      <td>10258</td>\n",
       "      <td>2</td>\n",
       "      <td>0</td>\n",
       "      <td>10258</td>\n",
       "      <td>Pistachios</td>\n",
       "      <td>117</td>\n",
       "      <td>19</td>\n",
       "      <td>3.0</td>\n",
       "      <td>both</td>\n",
       "    </tr>\n",
       "    <tr>\n",
       "      <th>7</th>\n",
       "      <td>2398795</td>\n",
       "      <td>1</td>\n",
       "      <td>prior</td>\n",
       "      <td>2</td>\n",
       "      <td>3</td>\n",
       "      <td>7</td>\n",
       "      <td>15.0</td>\n",
       "      <td>12427</td>\n",
       "      <td>3</td>\n",
       "      <td>1</td>\n",
       "      <td>12427</td>\n",
       "      <td>Original Beef Jerky</td>\n",
       "      <td>23</td>\n",
       "      <td>19</td>\n",
       "      <td>4.4</td>\n",
       "      <td>both</td>\n",
       "    </tr>\n",
       "    <tr>\n",
       "      <th>8</th>\n",
       "      <td>2398795</td>\n",
       "      <td>1</td>\n",
       "      <td>prior</td>\n",
       "      <td>2</td>\n",
       "      <td>3</td>\n",
       "      <td>7</td>\n",
       "      <td>15.0</td>\n",
       "      <td>13176</td>\n",
       "      <td>4</td>\n",
       "      <td>0</td>\n",
       "      <td>13176</td>\n",
       "      <td>Bag of Organic Bananas</td>\n",
       "      <td>24</td>\n",
       "      <td>4</td>\n",
       "      <td>10.3</td>\n",
       "      <td>both</td>\n",
       "    </tr>\n",
       "    <tr>\n",
       "      <th>9</th>\n",
       "      <td>2398795</td>\n",
       "      <td>1</td>\n",
       "      <td>prior</td>\n",
       "      <td>2</td>\n",
       "      <td>3</td>\n",
       "      <td>7</td>\n",
       "      <td>15.0</td>\n",
       "      <td>26088</td>\n",
       "      <td>5</td>\n",
       "      <td>1</td>\n",
       "      <td>26089</td>\n",
       "      <td>Aged White Cheddar Popcorn</td>\n",
       "      <td>23</td>\n",
       "      <td>19</td>\n",
       "      <td>4.7</td>\n",
       "      <td>both</td>\n",
       "    </tr>\n",
       "  </tbody>\n",
       "</table>\n",
       "</div>"
      ],
      "text/plain": [
       "   order_id  user_id eval_set  order_number  orders_day_of_week  \\\n",
       "0   2539329        1    prior             1                   2   \n",
       "1   2539329        1    prior             1                   2   \n",
       "2   2539329        1    prior             1                   2   \n",
       "3   2539329        1    prior             1                   2   \n",
       "4   2539329        1    prior             1                   2   \n",
       "5   2398795        1    prior             2                   3   \n",
       "6   2398795        1    prior             2                   3   \n",
       "7   2398795        1    prior             2                   3   \n",
       "8   2398795        1    prior             2                   3   \n",
       "9   2398795        1    prior             2                   3   \n",
       "\n",
       "   order_hour_of_day  days_since_prior_order  product_id  add_to_cart_order  \\\n",
       "0                  8                     NaN         196                  1   \n",
       "1                  8                     NaN       14084                  2   \n",
       "2                  8                     NaN       12427                  3   \n",
       "3                  8                     NaN       26088                  4   \n",
       "4                  8                     NaN       26405                  5   \n",
       "5                  7                    15.0         196                  1   \n",
       "6                  7                    15.0       10258                  2   \n",
       "7                  7                    15.0       12427                  3   \n",
       "8                  7                    15.0       13176                  4   \n",
       "9                  7                    15.0       26088                  5   \n",
       "\n",
       "   reordered  Unnamed: 0                             product_name  aisle_id  \\\n",
       "0          0         195                                     Soda        77   \n",
       "1          0       14084  Organic Unsweetened Vanilla Almond Milk        91   \n",
       "2          0       12427                      Original Beef Jerky        23   \n",
       "3          0       26089               Aged White Cheddar Popcorn        23   \n",
       "4          0       26406         XL Pick-A-Size Paper Towel Rolls        54   \n",
       "5          1         195                                     Soda        77   \n",
       "6          0       10258                               Pistachios       117   \n",
       "7          1       12427                      Original Beef Jerky        23   \n",
       "8          0       13176                   Bag of Organic Bananas        24   \n",
       "9          1       26089               Aged White Cheddar Popcorn        23   \n",
       "\n",
       "   department_id  prices _merge  \n",
       "0              7     9.0   both  \n",
       "1             16    12.5   both  \n",
       "2             19     4.4   both  \n",
       "3             19     4.7   both  \n",
       "4             17     1.0   both  \n",
       "5              7     9.0   both  \n",
       "6             19     3.0   both  \n",
       "7             19     4.4   both  \n",
       "8              4    10.3   both  \n",
       "9             19     4.7   both  "
      ]
     },
     "execution_count": 3,
     "metadata": {},
     "output_type": "execute_result"
    }
   ],
   "source": [
    "# Creating a smaller subset\n",
    "\n",
    "df = df_ords_prods[:1000000] \n",
    "df.head(10)"
   ]
  },
  {
   "cell_type": "markdown",
   "id": "f243078a",
   "metadata": {},
   "source": [
    "## 1.a. Create \"price_label\" column"
   ]
  },
  {
   "cell_type": "code",
   "execution_count": 4,
   "id": "0be0d31a",
   "metadata": {},
   "outputs": [],
   "source": [
    "# Creates a \"price_range\" FUNCTION\n",
    "\n",
    "def price_range(row):\n",
    "\n",
    "  if row['prices'] <= 5:\n",
    "    return 'Low-range product'\n",
    "  elif (row['prices'] > 5) and (row['prices'] <= 15):\n",
    "    return 'Mid-range product'\n",
    "  elif row['prices'] > 15:\n",
    "    return 'High range'\n",
    "  else: return 'Not enough data'\n"
   ]
  },
  {
   "cell_type": "code",
   "execution_count": 5,
   "id": "015473e2",
   "metadata": {},
   "outputs": [
    {
     "name": "stderr",
     "output_type": "stream",
     "text": [
      "C:\\Users\\Marc\\AppData\\Local\\Temp\\ipykernel_16180\\310669160.py:3: SettingWithCopyWarning: \n",
      "A value is trying to be set on a copy of a slice from a DataFrame.\n",
      "Try using .loc[row_indexer,col_indexer] = value instead\n",
      "\n",
      "See the caveats in the documentation: https://pandas.pydata.org/pandas-docs/stable/user_guide/indexing.html#returning-a-view-versus-a-copy\n",
      "  df['price_label'] = df.apply(price_range, axis=1)\n"
     ]
    }
   ],
   "source": [
    "# Creates a \"price_label\" COLUMN\n",
    "\n",
    "df['price_label'] = df.apply(price_range, axis=1)"
   ]
  },
  {
   "cell_type": "code",
   "execution_count": 6,
   "id": "b0d4c2b5",
   "metadata": {},
   "outputs": [
    {
     "data": {
      "text/plain": [
       "price_label\n",
       "Mid-range product    673183\n",
       "Low-range product    314392\n",
       "High range            12425\n",
       "Name: count, dtype: int64"
      ]
     },
     "execution_count": 6,
     "metadata": {},
     "output_type": "execute_result"
    }
   ],
   "source": [
    "# Checks outputs of \"price_label\" COLUMN\n",
    "\n",
    "df['price_label'].value_counts(dropna = False)"
   ]
  },
  {
   "cell_type": "markdown",
   "id": "55f3c850",
   "metadata": {},
   "source": [
    "## 1.b. Create \"busiest_day\" column"
   ]
  },
  {
   "cell_type": "code",
   "execution_count": 7,
   "id": "59fbd659",
   "metadata": {},
   "outputs": [
    {
     "name": "stderr",
     "output_type": "stream",
     "text": [
      "C:\\Users\\Marc\\AppData\\Local\\Temp\\ipykernel_16180\\2217561161.py:13: SettingWithCopyWarning: \n",
      "A value is trying to be set on a copy of a slice from a DataFrame.\n",
      "Try using .loc[row_indexer,col_indexer] = value instead\n",
      "\n",
      "See the caveats in the documentation: https://pandas.pydata.org/pandas-docs/stable/user_guide/indexing.html#returning-a-view-versus-a-copy\n",
      "  df['busiest_day'] = busiest_day\n"
     ]
    }
   ],
   "source": [
    "# Creates \"busiest_day\" column\n",
    "\n",
    "busiest_day = []\n",
    "\n",
    "for value in df[\"orders_day_of_week\"]:\n",
    "  if value == 0:\n",
    "    busiest_day.append(\"Busiest day\")\n",
    "  elif value == 4:\n",
    "    busiest_day.append(\"Least busy\")\n",
    "  else:\n",
    "    busiest_day.append(\"Regularly busy\")\n",
    "    \n",
    "df['busiest_day'] = busiest_day"
   ]
  },
  {
   "cell_type": "code",
   "execution_count": 8,
   "id": "7ebe4cf1",
   "metadata": {},
   "outputs": [
    {
     "data": {
      "text/plain": [
       "busiest_day\n",
       "Regularly busy    692455\n",
       "Busiest day       189676\n",
       "Least busy        117869\n",
       "Name: count, dtype: int64"
      ]
     },
     "execution_count": 8,
     "metadata": {},
     "output_type": "execute_result"
    }
   ],
   "source": [
    "# Checks the busiest day column\n",
    "\n",
    "df['busiest_day'].value_counts(dropna = False)"
   ]
  },
  {
   "cell_type": "markdown",
   "id": "6e8437c6",
   "metadata": {},
   "source": [
    "## 2. Create \"busiest_days\" column"
   ]
  },
  {
   "cell_type": "code",
   "execution_count": 9,
   "id": "b5f10888",
   "metadata": {},
   "outputs": [
    {
     "data": {
      "text/plain": [
       "orders_day_of_week\n",
       "0    189676\n",
       "1    169888\n",
       "6    139752\n",
       "5    133956\n",
       "2    130531\n",
       "3    118328\n",
       "4    117869\n",
       "Name: count, dtype: int64"
      ]
     },
     "execution_count": 9,
     "metadata": {},
     "output_type": "execute_result"
    }
   ],
   "source": [
    "# Look for the frequency distribution\n",
    "\n",
    "df['orders_day_of_week'].value_counts(dropna = False)"
   ]
  },
  {
   "cell_type": "markdown",
   "id": "04155d5c",
   "metadata": {},
   "source": [
    "#### Busiest days ranking\n",
    "\n",
    "1. 0 = Saturday\n",
    "2. 1 = Sunday\n",
    "3. 6 = Friday\n",
    "4. 5 = Thursday\n",
    "5. 2 = Monday\n",
    "6. 3 = Tuesday\n",
    "7. 4 = Wednesday"
   ]
  },
  {
   "cell_type": "code",
   "execution_count": 10,
   "id": "11720658",
   "metadata": {},
   "outputs": [
    {
     "name": "stderr",
     "output_type": "stream",
     "text": [
      "C:\\Users\\Marc\\AppData\\Local\\Temp\\ipykernel_16180\\3403341039.py:17: SettingWithCopyWarning: \n",
      "A value is trying to be set on a copy of a slice from a DataFrame.\n",
      "Try using .loc[row_indexer,col_indexer] = value instead\n",
      "\n",
      "See the caveats in the documentation: https://pandas.pydata.org/pandas-docs/stable/user_guide/indexing.html#returning-a-view-versus-a-copy\n",
      "  df['busiest_days'] = busiest_days\n"
     ]
    }
   ],
   "source": [
    "# Creates \"busiest_days\" column\n",
    "\n",
    "busiest_days = []\n",
    "\n",
    "for value in df[\"orders_day_of_week\"]:\n",
    "  if value == 0:\n",
    "    busiest_days.append(\"Busiest days\") \n",
    "  elif value == 1:\n",
    "    busiest_days.append(\"Busiest days\")    \n",
    "  elif value == 4:\n",
    "    busiest_days.append(\"Least busy days\")\n",
    "  elif value == 3:\n",
    "    busiest_days.append(\"Least busy days\")\n",
    "  else:\n",
    "    busiest_days.append(\"Normal busy\")\n",
    "    \n",
    "df['busiest_days'] = busiest_days"
   ]
  },
  {
   "cell_type": "markdown",
   "id": "24e54656",
   "metadata": {},
   "source": [
    "## 3. Check \"busiest_days\" for accuracy"
   ]
  },
  {
   "cell_type": "code",
   "execution_count": 11,
   "id": "b5ef8c1a",
   "metadata": {},
   "outputs": [
    {
     "data": {
      "text/plain": [
       "busiest_days\n",
       "Normal busy        404239\n",
       "Busiest days       359564\n",
       "Least busy days    236197\n",
       "Name: count, dtype: int64"
      ]
     },
     "execution_count": 11,
     "metadata": {},
     "output_type": "execute_result"
    }
   ],
   "source": [
    "# Checks the busiest day column\n",
    "\n",
    "df['busiest_days'].value_counts(dropna = False)"
   ]
  },
  {
   "cell_type": "markdown",
   "id": "8260452c",
   "metadata": {},
   "source": [
    "### Checking Outputs\n",
    "\n",
    "#### Busiest day = Saturday (189676) + Sunday (169888) = 359564 - Ok!\n",
    "\n",
    "#### Least busy days = Tuesday (118328) + Wednesday (117869) = 236197 - Ok!"
   ]
  },
  {
   "cell_type": "markdown",
   "id": "710111b0",
   "metadata": {},
   "source": [
    "## 4. Create \"most_orders\" column"
   ]
  },
  {
   "cell_type": "code",
   "execution_count": 12,
   "id": "a1ad62b0",
   "metadata": {},
   "outputs": [
    {
     "data": {
      "text/plain": [
       "order_hour_of_day\n",
       "10    86480\n",
       "11    84828\n",
       "13    81566\n",
       "14    81389\n",
       "15    81169\n",
       "12    80821\n",
       "9     77729\n",
       "16    76743\n",
       "17    65219\n",
       "8     53867\n",
       "18    51326\n",
       "19    39413\n",
       "20    29683\n",
       "7     27843\n",
       "21    24565\n",
       "22    19270\n",
       "23    11955\n",
       "6      9542\n",
       "0      5962\n",
       "1      2934\n",
       "5      2683\n",
       "2      1867\n",
       "4      1664\n",
       "3      1482\n",
       "Name: count, dtype: int64"
      ]
     },
     "execution_count": 12,
     "metadata": {},
     "output_type": "execute_result"
    }
   ],
   "source": [
    "# Look for the frequency distribution\n",
    "\n",
    "df['order_hour_of_day'].value_counts(dropna = False)"
   ]
  },
  {
   "cell_type": "markdown",
   "id": "7746368e",
   "metadata": {},
   "source": [
    "### Analysis: very conveniently, the most 6 busy hours are sequential from 10 to 15 and the 6 least busy houras are also sequential from 0 to 5. I can write than a simpler command using intervals "
   ]
  },
  {
   "cell_type": "markdown",
   "id": "59835719",
   "metadata": {},
   "source": [
    "### Using loc()"
   ]
  },
  {
   "cell_type": "code",
   "execution_count": 13,
   "id": "0c4350aa",
   "metadata": {},
   "outputs": [
    {
     "name": "stderr",
     "output_type": "stream",
     "text": [
      "C:\\Users\\Marc\\AppData\\Local\\Temp\\ipykernel_16180\\1950201652.py:1: SettingWithCopyWarning: \n",
      "A value is trying to be set on a copy of a slice from a DataFrame.\n",
      "Try using .loc[row_indexer,col_indexer] = value instead\n",
      "\n",
      "See the caveats in the documentation: https://pandas.pydata.org/pandas-docs/stable/user_guide/indexing.html#returning-a-view-versus-a-copy\n",
      "  df.loc[df['order_hour_of_day'] <= 5, 'busy_hours_loc'] = 'Fewest orders'\n"
     ]
    }
   ],
   "source": [
    "df.loc[df['order_hour_of_day'] <= 5, 'busy_hours_loc'] = 'Fewest orders'"
   ]
  },
  {
   "cell_type": "code",
   "execution_count": 14,
   "id": "e35c323d",
   "metadata": {},
   "outputs": [],
   "source": [
    "df.loc[(df['order_hour_of_day'] >= 6) & (df['order_hour_of_day'] <= 9), 'busy_hours_loc'] = 'Average orders'"
   ]
  },
  {
   "cell_type": "code",
   "execution_count": 15,
   "id": "607852b7",
   "metadata": {},
   "outputs": [],
   "source": [
    "df.loc[(df['order_hour_of_day'] >= 10) & (df['order_hour_of_day'] <= 15), 'busy_hours_loc'] = 'Most orders'"
   ]
  },
  {
   "cell_type": "code",
   "execution_count": 16,
   "id": "873c15fb",
   "metadata": {},
   "outputs": [],
   "source": [
    "df.loc[(df['order_hour_of_day'] >= 16) & (df['order_hour_of_day'] <= 23), 'busy_hours_loc'] = 'Average orders'"
   ]
  },
  {
   "cell_type": "code",
   "execution_count": 17,
   "id": "9daef0b0",
   "metadata": {},
   "outputs": [
    {
     "data": {
      "text/plain": [
       "busy_hours_loc\n",
       "Most orders       496253\n",
       "Average orders    487155\n",
       "Fewest orders      16592\n",
       "Name: count, dtype: int64"
      ]
     },
     "execution_count": 17,
     "metadata": {},
     "output_type": "execute_result"
    }
   ],
   "source": [
    "df['busy_hours_loc'].value_counts(dropna = False)"
   ]
  },
  {
   "cell_type": "markdown",
   "id": "44cff1f5",
   "metadata": {},
   "source": [
    "### Using for loop"
   ]
  },
  {
   "cell_type": "code",
   "execution_count": 18,
   "id": "ad65cb64",
   "metadata": {},
   "outputs": [],
   "source": [
    "# Creates \"busiest_days\" column\n",
    "\n",
    "busiest_hours = []\n",
    "\n",
    "for value in df[\"order_hour_of_day\"]:\n",
    "\n",
    "  if value <= 5:\n",
    "    busiest_hours.append(\"Fewest orders\")\n",
    "  elif value <= 15 & value > 9 :\n",
    "    busiest_hours.append(\"Most orders\") \n",
    "  else:\n",
    "    busiest_hours.append(\"Average orders\")"
   ]
  },
  {
   "cell_type": "code",
   "execution_count": 19,
   "id": "b68c5134",
   "metadata": {},
   "outputs": [
    {
     "name": "stderr",
     "output_type": "stream",
     "text": [
      "C:\\Users\\Marc\\AppData\\Local\\Temp\\ipykernel_16180\\2025454875.py:1: SettingWithCopyWarning: \n",
      "A value is trying to be set on a copy of a slice from a DataFrame.\n",
      "Try using .loc[row_indexer,col_indexer] = value instead\n",
      "\n",
      "See the caveats in the documentation: https://pandas.pydata.org/pandas-docs/stable/user_guide/indexing.html#returning-a-view-versus-a-copy\n",
      "  df['busiest_period_of_day'] = busiest_hours\n"
     ]
    }
   ],
   "source": [
    "df['busiest_period_of_day'] = busiest_hours"
   ]
  },
  {
   "cell_type": "markdown",
   "id": "088bda70",
   "metadata": {},
   "source": [
    "## 5. Print frequency \"most_orders\""
   ]
  },
  {
   "cell_type": "code",
   "execution_count": 20,
   "id": "1bd35c33",
   "metadata": {},
   "outputs": [
    {
     "data": {
      "text/plain": [
       "busiest_period_of_day\n",
       "Most orders       496253\n",
       "Average orders    487155\n",
       "Fewest orders      16592\n",
       "Name: count, dtype: int64"
      ]
     },
     "execution_count": 20,
     "metadata": {},
     "output_type": "execute_result"
    }
   ],
   "source": [
    "# Checks the busiest period_of_day column\n",
    "\n",
    "df['busiest_period_of_day'].value_counts(dropna = False)"
   ]
  },
  {
   "cell_type": "markdown",
   "id": "500f2940",
   "metadata": {},
   "source": [
    "## 7. Export data as pickle file"
   ]
  },
  {
   "cell_type": "code",
   "execution_count": 21,
   "id": "6e586654",
   "metadata": {},
   "outputs": [],
   "source": [
    "# Exports data to pkl\n",
    "\n",
    "df.to_pickle(os.path.join(path, '02_Data','2-2_Prepared', 'short_analysis.pkl'))"
   ]
  },
  {
   "cell_type": "code",
   "execution_count": null,
   "id": "6bf52cdd",
   "metadata": {},
   "outputs": [],
   "source": []
  }
 ],
 "metadata": {
  "kernelspec": {
   "display_name": "Python 3 (ipykernel)",
   "language": "python",
   "name": "python3"
  },
  "language_info": {
   "codemirror_mode": {
    "name": "ipython",
    "version": 3
   },
   "file_extension": ".py",
   "mimetype": "text/x-python",
   "name": "python",
   "nbconvert_exporter": "python",
   "pygments_lexer": "ipython3",
   "version": "3.11.7"
  }
 },
 "nbformat": 4,
 "nbformat_minor": 5
}
