{
 "cells": [
  {
   "cell_type": "markdown",
   "id": "61b06ab3",
   "metadata": {},
   "source": [
    "## 4-2_Jupyter Fundamentals and Python Data Types"
   ]
  },
  {
   "cell_type": "markdown",
   "id": "dab77758",
   "metadata": {},
   "source": [
    "### This script contains simple commands using different data types"
   ]
  },
  {
   "cell_type": "code",
   "execution_count": null,
   "id": "56b94ed1",
   "metadata": {},
   "outputs": [],
   "source": [
    "# Importing libraries\n",
    "import pandas as pd\n",
    "import numpy as np\n",
    "import os"
   ]
  },
  {
   "cell_type": "code",
   "execution_count": 1,
   "id": "defafd9e",
   "metadata": {},
   "outputs": [
    {
     "name": "stdout",
     "output_type": "stream",
     "text": [
      "100\n"
     ]
    }
   ],
   "source": [
    "# First way to result on 100 - Addition\n",
    "x = 99\n",
    "y = 1\n",
    "z = x + y\n",
    "print(z)"
   ]
  },
  {
   "cell_type": "code",
   "execution_count": 2,
   "id": "f3dcb442",
   "metadata": {},
   "outputs": [
    {
     "name": "stdout",
     "output_type": "stream",
     "text": [
      "100.0\n"
     ]
    }
   ],
   "source": [
    "# Second way to result on 100 - Division\n",
    "a = 1000\n",
    "b = 10\n",
    "c = a / b\n",
    "print(c)"
   ]
  },
  {
   "cell_type": "code",
   "execution_count": 4,
   "id": "84b632f4",
   "metadata": {},
   "outputs": [
    {
     "name": "stdout",
     "output_type": "stream",
     "text": [
      "100\n"
     ]
    }
   ],
   "source": [
    "# Third way to result on 100 - Exponentiation\n",
    "i = 10\n",
    "j = 2\n",
    "k = i**j\n",
    "print (k)"
   ]
  },
  {
   "cell_type": "code",
   "execution_count": 6,
   "id": "a500a554",
   "metadata": {},
   "outputs": [
    {
     "name": "stdout",
     "output_type": "stream",
     "text": [
      "2.0\n"
     ]
    }
   ],
   "source": [
    "# 2 Floating-point variables\n",
    "f = 6.666\n",
    "g = 3.333\n",
    "h = f/g\n",
    "print(h)"
   ]
  },
  {
   "cell_type": "code",
   "execution_count": 8,
   "id": "a889122d",
   "metadata": {},
   "outputs": [
    {
     "data": {
      "text/plain": [
       "'Hi'"
      ]
     },
     "execution_count": 8,
     "metadata": {},
     "output_type": "execute_result"
    }
   ],
   "source": [
    "# Construct a short word made of separate strings\n",
    "a = 'H'\n",
    "b = 'i'\n",
    "a + b"
   ]
  },
  {
   "cell_type": "code",
   "execution_count": 11,
   "id": "2a8afd74",
   "metadata": {},
   "outputs": [
    {
     "name": "stdout",
     "output_type": "stream",
     "text": [
      "Good morning, sunshine!\n",
      "Good job, dear!\n"
     ]
    }
   ],
   "source": [
    "# Construct 2 short sentences made of separate strings\n",
    "\n",
    "a = 'Good '\n",
    "b = 'morning, '\n",
    "c = 'sunshine!'\n",
    "d = 'job, '\n",
    "e = 'dear!'\n",
    "\n",
    "f = a+b+c\n",
    "print(f)\n",
    "\n",
    "g = a+d+e\n",
    "print(g)"
   ]
  }
 ],
 "metadata": {
  "kernelspec": {
   "display_name": "Python 3 (ipykernel)",
   "language": "python",
   "name": "python3"
  },
  "language_info": {
   "codemirror_mode": {
    "name": "ipython",
    "version": 3
   },
   "file_extension": ".py",
   "mimetype": "text/x-python",
   "name": "python",
   "nbconvert_exporter": "python",
   "pygments_lexer": "ipython3",
   "version": "3.11.7"
  }
 },
 "nbformat": 4,
 "nbformat_minor": 5
}
