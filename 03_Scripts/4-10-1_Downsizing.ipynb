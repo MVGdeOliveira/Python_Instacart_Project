{
 "cells": [
  {
   "cell_type": "markdown",
   "id": "3c9bf686",
   "metadata": {},
   "source": [
    "#### Exercise 4.10\n",
    "\n",
    "### 1. Imports libraries and dataframes\n",
    "  \n",
    "### 2. Data Downsampling to 40% of original rows\n",
    "   #### Too often there were memory problems with the computer\n",
    "\n",
    "### 3. Exporting\n",
    "   #### ords_prods_cust_small.pkl"
   ]
  },
  {
   "cell_type": "markdown",
   "id": "d05c3826",
   "metadata": {},
   "source": [
    "## 1. Imports libraries and dataframes"
   ]
  },
  {
   "cell_type": "code",
   "execution_count": 1,
   "id": "0a27d39d",
   "metadata": {},
   "outputs": [],
   "source": [
    "# Imports libraries\n",
    "\n",
    "import pandas as pd\n",
    "import numpy as np\n",
    "import os"
   ]
  },
  {
   "cell_type": "code",
   "execution_count": 2,
   "id": "2655f1f5",
   "metadata": {},
   "outputs": [],
   "source": [
    "# Imports dataframes\n",
    "\n",
    "# creates a path with the source folder\n",
    "path = r'C:\\Users\\Marc\\Mariana_CareerFoundry'\n",
    "\n",
    "# importing the files from prepared data\n",
    "\n",
    "df_ords_prods_cust = pd.read_pickle(os.path.join(path, '02_Data','2-2_Prepared', 'ords_prods_cust.pkl'))"
   ]
  },
  {
   "cell_type": "markdown",
   "id": "730df228",
   "metadata": {},
   "source": [
    "### Dropping columns that are not needed"
   ]
  },
  {
   "cell_type": "code",
   "execution_count": 3,
   "id": "237d1fd5",
   "metadata": {},
   "outputs": [
    {
     "data": {
      "text/plain": [
       "Index(['order_id', 'user_id', 'order_number', 'orders_day_of_week',\n",
       "       'order_hour_of_day', 'days_since_prior_order', 'product_id',\n",
       "       'add_to_cart_order', 'product_name', 'aisle_id', 'department_id',\n",
       "       'prices', 'max_order', 'loyalty_flag', 'mean_price', 'spender_flag',\n",
       "       'frequency_customer', 'frequent_flag', 'state', 'age', 'n_dependants',\n",
       "       'fam_status', 'income'],\n",
       "      dtype='object')"
      ]
     },
     "execution_count": 3,
     "metadata": {},
     "output_type": "execute_result"
    }
   ],
   "source": [
    "df_ords_prods_cust.columns"
   ]
  },
  {
   "cell_type": "code",
   "execution_count": 4,
   "id": "9981a954",
   "metadata": {},
   "outputs": [
    {
     "data": {
      "text/plain": [
       "Index(['order_id', 'user_id', 'orders_day_of_week', 'order_hour_of_day',\n",
       "       'days_since_prior_order', 'department_id', 'prices', 'max_order',\n",
       "       'loyalty_flag', 'mean_price', 'spender_flag', 'frequency_customer',\n",
       "       'frequent_flag', 'state', 'age', 'n_dependants', 'fam_status',\n",
       "       'income'],\n",
       "      dtype='object')"
      ]
     },
     "execution_count": 4,
     "metadata": {},
     "output_type": "execute_result"
    }
   ],
   "source": [
    "df_dropped = df_ords_prods_cust.drop(columns = ['order_number', 'product_id',\n",
    "       'add_to_cart_order', 'product_name', 'aisle_id'])\n",
    "df_dropped.columns"
   ]
  },
  {
   "cell_type": "code",
   "execution_count": 5,
   "id": "e56c17de",
   "metadata": {},
   "outputs": [],
   "source": [
    "df = df_dropped"
   ]
  },
  {
   "cell_type": "markdown",
   "id": "b27f2ff8",
   "metadata": {},
   "source": [
    "## 2. Data downsampling"
   ]
  },
  {
   "cell_type": "code",
   "execution_count": 6,
   "id": "a4428e7a",
   "metadata": {},
   "outputs": [],
   "source": [
    "# Creating a randomized list to test np.random.rant () <= 0.6 to sample the data\n",
    "\n",
    "np.random.seed(4)\n",
    "dev = np.random.rand(len(df_dropped)) <= 0.6"
   ]
  },
  {
   "cell_type": "code",
   "execution_count": 7,
   "id": "9fc223cd",
   "metadata": {},
   "outputs": [],
   "source": [
    "# Splitting the dataframe into two samples\n",
    "\n",
    "# Store 60% of the sample in dataframe big\n",
    "big = df_dropped[dev] \n",
    "\n",
    "# Store 40% of the sample in dataframe small\n",
    "df = df_dropped[~dev]"
   ]
  },
  {
   "cell_type": "code",
   "execution_count": 8,
   "id": "bb76f10b",
   "metadata": {},
   "outputs": [
    {
     "data": {
      "text/plain": [
       "32404859"
      ]
     },
     "execution_count": 8,
     "metadata": {},
     "output_type": "execute_result"
    }
   ],
   "source": [
    "# Checking the sizes\n",
    "len(df_dropped)"
   ]
  },
  {
   "cell_type": "code",
   "execution_count": 9,
   "id": "a4eda757",
   "metadata": {},
   "outputs": [
    {
     "data": {
      "text/plain": [
       "32404859"
      ]
     },
     "execution_count": 9,
     "metadata": {},
     "output_type": "execute_result"
    }
   ],
   "source": [
    "len(big) + len(df)"
   ]
  },
  {
   "cell_type": "code",
   "execution_count": 10,
   "id": "9108d639",
   "metadata": {},
   "outputs": [
    {
     "data": {
      "text/plain": [
       "(12961659, 18)"
      ]
     },
     "execution_count": 10,
     "metadata": {},
     "output_type": "execute_result"
    }
   ],
   "source": [
    "# Shape smaller dataframe\n",
    "\n",
    "df.shape"
   ]
  },
  {
   "cell_type": "markdown",
   "id": "83a697ff",
   "metadata": {},
   "source": [
    "# 3. Exporting smaller dataframe"
   ]
  },
  {
   "cell_type": "code",
   "execution_count": 11,
   "id": "0bca326f",
   "metadata": {},
   "outputs": [],
   "source": [
    "# Exports data to pkl\n",
    "\n",
    "df.to_pickle(os.path.join(path, '02_Data','2-2_Prepared', 'ords_prods_cust_small.pkl'))"
   ]
  }
 ],
 "metadata": {
  "kernelspec": {
   "display_name": "Python 3 (ipykernel)",
   "language": "python",
   "name": "python3"
  },
  "language_info": {
   "codemirror_mode": {
    "name": "ipython",
    "version": 3
   },
   "file_extension": ".py",
   "mimetype": "text/x-python",
   "name": "python",
   "nbconvert_exporter": "python",
   "pygments_lexer": "ipython3",
   "version": "3.11.7"
  }
 },
 "nbformat": 4,
 "nbformat_minor": 5
}
